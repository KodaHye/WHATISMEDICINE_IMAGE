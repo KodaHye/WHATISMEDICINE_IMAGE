{
 "cells": [
  {
   "cell_type": "code",
   "execution_count": 5,
   "id": "77f5bee4",
   "metadata": {},
   "outputs": [
    {
     "name": "stderr",
     "output_type": "stream",
     "text": [
      "warning: LF will be replaced by CRLF in README.md.\n",
      "The file will have its original line endings in your working directory\n"
     ]
    }
   ],
   "source": [
    "!git add ."
   ]
  },
  {
   "cell_type": "code",
   "execution_count": 6,
   "id": "34e46fa3",
   "metadata": {},
   "outputs": [
    {
     "name": "stdout",
     "output_type": "stream",
     "text": [
      "[main 56d92c9] Edit: README.md\n",
      " 2 files changed, 36 insertions(+), 2 deletions(-)\n",
      " create mode 100644 .gitignore\n"
     ]
    }
   ],
   "source": [
    "!git commit -m \"Edit: README.md\""
   ]
  },
  {
   "cell_type": "code",
   "execution_count": 7,
   "id": "2c91ccba",
   "metadata": {},
   "outputs": [
    {
     "name": "stderr",
     "output_type": "stream",
     "text": [
      "To https://github.com/KodaHye/WHATISMEDICINE_IMAGE.git\n",
      "   3e13b05..56d92c9  main -> main\n"
     ]
    }
   ],
   "source": [
    "!git push origin main"
   ]
  },
  {
   "cell_type": "code",
   "execution_count": 1,
   "id": "bfa30ca7",
   "metadata": {},
   "outputs": [
    {
     "name": "stderr",
     "output_type": "stream",
     "text": [
      "error: pathspec 'kodahye' did not match any file(s) known to git\n"
     ]
    }
   ],
   "source": [
    "!git checkout kodahye"
   ]
  },
  {
   "cell_type": "code",
   "execution_count": 2,
   "id": "be9a92f9",
   "metadata": {},
   "outputs": [
    {
     "name": "stdout",
     "output_type": "stream",
     "text": [
      "  kodaye\n",
      "* main\n"
     ]
    }
   ],
   "source": [
    "!git branch"
   ]
  },
  {
   "cell_type": "code",
   "execution_count": 3,
   "id": "f3fdcc59",
   "metadata": {},
   "outputs": [
    {
     "name": "stderr",
     "output_type": "stream",
     "text": [
      "Switched to branch 'kodaye'\n"
     ]
    }
   ],
   "source": [
    "!git checkout kodaye"
   ]
  },
  {
   "cell_type": "code",
   "execution_count": 4,
   "id": "55e8fe5d",
   "metadata": {},
   "outputs": [],
   "source": [
    "!git branch -m kodaye kodaye"
   ]
  },
  {
   "cell_type": "code",
   "execution_count": 6,
   "id": "ed7616f8",
   "metadata": {},
   "outputs": [],
   "source": [
    "!git branch -m kodaye kodahye"
   ]
  },
  {
   "cell_type": "code",
   "execution_count": 7,
   "id": "ee6b933d",
   "metadata": {},
   "outputs": [
    {
     "name": "stdout",
     "output_type": "stream",
     "text": [
      "* kodahye\n",
      "  main\n"
     ]
    }
   ],
   "source": [
    "!git branch"
   ]
  },
  {
   "cell_type": "code",
   "execution_count": 8,
   "id": "c5cd34d1",
   "metadata": {},
   "outputs": [
    {
     "name": "stderr",
     "output_type": "stream",
     "text": [
      "warning: LF will be replaced by CRLF in .ipynb_checkpoints/about git-checkpoint.ipynb.\n",
      "The file will have its original line endings in your working directory\n",
      "warning: LF will be replaced by CRLF in about git.ipynb.\n",
      "The file will have its original line endings in your working directory\n"
     ]
    }
   ],
   "source": [
    "!git add ."
   ]
  },
  {
   "cell_type": "code",
   "execution_count": 9,
   "id": "f3b6589b",
   "metadata": {},
   "outputs": [
    {
     "name": "stdout",
     "output_type": "stream",
     "text": [
      "A\t.ipynb_checkpoints/about git-checkpoint.ipynb\n",
      "A\tabout git.ipynb\n",
      "A\t\"data/sampleData/\\353\\247\\210\\353\\246\\204\\353\\252\\250\\355\\230\\225.jpg\"\n",
      "A\t\"data/sampleData/\\354\\202\\254\\352\\260\\201\\355\\230\\225.jpg\"\n",
      "A\t\"data/sampleData/\\354\\202\\274\\352\\260\\201\\355\\230\\225.jpg\"\n",
      "A\t\"data/sampleData/\\354\\233\\220\\355\\230\\225.jpg\"\n",
      "A\t\"data/sampleData/\\354\\234\\241\\352\\260\\201\\355\\230\\225.jpg\"\n",
      "A\t\"data/sampleData/\\354\\236\\245\\353\\260\\251\\355\\230\\225.jpg\"\n",
      "A\t\"data/sampleData/\\355\\203\\200\\354\\233\\220\\355\\230\\225.jpg\"\n",
      "A\t\"data/sampleData/\\355\\214\\224\\352\\260\\201\\355\\230\\225.jpg\"\n",
      "A\tdata/sampleDataRembg/5angle.png\n",
      "A\tdata/sampleDataRembg/6angle.png\n",
      "A\tdata/sampleDataRembg/8angle.png\n",
      "A\tdata/sampleDataRembg/circle.png\n",
      "A\tdata/sampleDataRembg/ellipse.png\n",
      "A\tdata/sampleDataRembg/jangbang.png\n",
      "A\tdata/sampleDataRembg/rectangle.png\n",
      "A\tdata/sampleDataRembg/triangle.png\n",
      "A\t\"data/sampleDataRembg/\\353\\247\\210\\353\\246\\204\\353\\252\\250\\355\\230\\225.png\"\n",
      "A\tsample_data/3angle_1.jpg\n",
      "A\tsample_data/3angle_2.jpg\n",
      "A\tsample_data/3angle_3.jpg\n",
      "A\tsample_data/4angle_1.jpg\n",
      "A\tsample_data/4angle_2.jpg\n",
      "A\tsample_data/4angle_3.jpg\n",
      "A\tsample_data/5angle_1.jpg\n",
      "A\tsample_data/5angle_2.jpg\n",
      "A\tsample_data/5angle_3.jpg\n",
      "A\tsample_data/6angle_1.jpg\n",
      "A\tsample_data/6angle_2.jpg\n",
      "A\tsample_data/6angle_3.jpg\n",
      "A\tsample_data/circle_1.jpg\n",
      "A\tsample_data/circle_2.jpg\n",
      "A\tsample_data/circle_3.jpg\n",
      "A\tsample_data/jangbang_1.jpg\n",
      "A\tsample_data/jangbang_2.jpg\n",
      "A\tsample_data_rembg/3angle_1.png\n",
      "A\tsample_data_rembg/3angle_2.png\n",
      "A\tsample_data_rembg/3angle_3.png\n",
      "A\tsample_data_rembg/4angle_1.png\n",
      "A\tsample_data_rembg/5angle_1.png\n",
      "A\tsample_data_rembg/5angle_2.png\n",
      "A\tsample_data_rembg/5angle_3.png\n",
      "A\tsample_data_rembg/6angle_1.png\n",
      "A\tsample_data_rembg/6angle_2.png\n",
      "A\tsample_data_rembg/6angle_3.png\n",
      "A\tsample_data_rembg/circle_1.png\n",
      "A\tsample_data_rembg/circle_2.png\n",
      "A\tsample_data_rembg/circle_3.png\n",
      "A\tsample_data_rembg/jangbangCopy.png\n",
      "A\tsample_data_rembg/jangbang_1.png\n",
      "A\tsample_data_rembg/jangbang_2.png\n",
      "Your branch is up to date with 'origin/main'.\n"
     ]
    },
    {
     "name": "stderr",
     "output_type": "stream",
     "text": [
      "Switched to branch 'main'\n"
     ]
    }
   ],
   "source": [
    "!git checkout main"
   ]
  },
  {
   "cell_type": "code",
   "execution_count": 10,
   "id": "732047ec",
   "metadata": {},
   "outputs": [],
   "source": [
    "!git add ."
   ]
  },
  {
   "cell_type": "code",
   "execution_count": 12,
   "id": "7aa68f1e",
   "metadata": {},
   "outputs": [
    {
     "name": "stdout",
     "output_type": "stream",
     "text": [
      "[main dfb12fe] delete files and add images\n",
      " 52 files changed, 182 insertions(+)\n",
      " create mode 100644 .ipynb_checkpoints/about git-checkpoint.ipynb\n",
      " create mode 100644 about git.ipynb\n",
      " create mode 100644 \"data/sampleData/\\353\\247\\210\\353\\246\\204\\353\\252\\250\\355\\230\\225.jpg\"\n",
      " create mode 100644 \"data/sampleData/\\354\\202\\254\\352\\260\\201\\355\\230\\225.jpg\"\n",
      " create mode 100644 \"data/sampleData/\\354\\202\\274\\352\\260\\201\\355\\230\\225.jpg\"\n",
      " create mode 100644 \"data/sampleData/\\354\\233\\220\\355\\230\\225.jpg\"\n",
      " create mode 100644 \"data/sampleData/\\354\\234\\241\\352\\260\\201\\355\\230\\225.jpg\"\n",
      " create mode 100644 \"data/sampleData/\\354\\236\\245\\353\\260\\251\\355\\230\\225.jpg\"\n",
      " create mode 100644 \"data/sampleData/\\355\\203\\200\\354\\233\\220\\355\\230\\225.jpg\"\n",
      " create mode 100644 \"data/sampleData/\\355\\214\\224\\352\\260\\201\\355\\230\\225.jpg\"\n",
      " create mode 100644 data/sampleDataRembg/5angle.png\n",
      " create mode 100644 data/sampleDataRembg/6angle.png\n",
      " create mode 100644 data/sampleDataRembg/8angle.png\n",
      " create mode 100644 data/sampleDataRembg/circle.png\n",
      " create mode 100644 data/sampleDataRembg/ellipse.png\n",
      " create mode 100644 data/sampleDataRembg/jangbang.png\n",
      " create mode 100644 data/sampleDataRembg/rectangle.png\n",
      " create mode 100644 data/sampleDataRembg/triangle.png\n",
      " create mode 100644 \"data/sampleDataRembg/\\353\\247\\210\\353\\246\\204\\353\\252\\250\\355\\230\\225.png\"\n",
      " create mode 100644 sample_data/3angle_1.jpg\n",
      " create mode 100644 sample_data/3angle_2.jpg\n",
      " create mode 100644 sample_data/3angle_3.jpg\n",
      " create mode 100644 sample_data/4angle_1.jpg\n",
      " create mode 100644 sample_data/4angle_2.jpg\n",
      " create mode 100644 sample_data/4angle_3.jpg\n",
      " create mode 100644 sample_data/5angle_1.jpg\n",
      " create mode 100644 sample_data/5angle_2.jpg\n",
      " create mode 100644 sample_data/5angle_3.jpg\n",
      " create mode 100644 sample_data/6angle_1.jpg\n",
      " create mode 100644 sample_data/6angle_2.jpg\n",
      " create mode 100644 sample_data/6angle_3.jpg\n",
      " create mode 100644 sample_data/circle_1.jpg\n",
      " create mode 100644 sample_data/circle_2.jpg\n",
      " create mode 100644 sample_data/circle_3.jpg\n",
      " create mode 100644 sample_data/jangbang_1.jpg\n",
      " create mode 100644 sample_data/jangbang_2.jpg\n",
      " create mode 100644 sample_data_rembg/3angle_1.png\n",
      " create mode 100644 sample_data_rembg/3angle_2.png\n",
      " create mode 100644 sample_data_rembg/3angle_3.png\n",
      " create mode 100644 sample_data_rembg/4angle_1.png\n",
      " create mode 100644 sample_data_rembg/5angle_1.png\n",
      " create mode 100644 sample_data_rembg/5angle_2.png\n",
      " create mode 100644 sample_data_rembg/5angle_3.png\n",
      " create mode 100644 sample_data_rembg/6angle_1.png\n",
      " create mode 100644 sample_data_rembg/6angle_2.png\n",
      " create mode 100644 sample_data_rembg/6angle_3.png\n",
      " create mode 100644 sample_data_rembg/circle_1.png\n",
      " create mode 100644 sample_data_rembg/circle_2.png\n",
      " create mode 100644 sample_data_rembg/circle_3.png\n",
      " create mode 100644 sample_data_rembg/jangbangCopy.png\n",
      " create mode 100644 sample_data_rembg/jangbang_1.png\n",
      " create mode 100644 sample_data_rembg/jangbang_2.png\n"
     ]
    }
   ],
   "source": [
    "!git commit -m \"delete files and add images\""
   ]
  },
  {
   "cell_type": "code",
   "execution_count": 13,
   "id": "de88ba0c",
   "metadata": {},
   "outputs": [
    {
     "name": "stderr",
     "output_type": "stream",
     "text": [
      "To https://github.com/KodaHye/WHATISMEDICINE_IMAGE.git\n",
      "   56d92c9..dfb12fe  main -> main\n"
     ]
    }
   ],
   "source": [
    "!git push origin main"
   ]
  },
  {
   "cell_type": "code",
   "execution_count": 14,
   "id": "6ebc3093",
   "metadata": {},
   "outputs": [
    {
     "name": "stderr",
     "output_type": "stream",
     "text": [
      "Switched to branch 'kodahye'\n"
     ]
    }
   ],
   "source": [
    "!git checkout kodahye"
   ]
  },
  {
   "cell_type": "code",
   "execution_count": 15,
   "id": "1cdd1635",
   "metadata": {},
   "outputs": [
    {
     "name": "stdout",
     "output_type": "stream",
     "text": [
      "Updating 3e13b05..dfb12fe\n",
      "Fast-forward\n",
      " .gitignore                                         |  24 ++++++\n",
      " .ipynb_checkpoints/about git-checkpoint.ipynb      |  91 +++++++++++++++++++++\n",
      " README.md                                          |  14 +++-\n",
      " about git.ipynb                                    |  91 +++++++++++++++++++++\n",
      " ...47\\210\\353\\246\\204\\353\\252\\250\\355\\230\\225.jpg\" | Bin 0 -> 95174 bytes\n",
      " .../\\354\\202\\254\\352\\260\\201\\355\\230\\225.jpg\"      | Bin 0 -> 62674 bytes\n",
      " .../\\354\\202\\274\\352\\260\\201\\355\\230\\225.jpg\"      | Bin 0 -> 81455 bytes\n",
      " \"data/sampleData/\\354\\233\\220\\355\\230\\225.jpg\"     | Bin 0 -> 67923 bytes\n",
      " .../\\354\\234\\241\\352\\260\\201\\355\\230\\225.jpg\"      | Bin 0 -> 145016 bytes\n",
      " .../\\354\\236\\245\\353\\260\\251\\355\\230\\225.jpg\"      | Bin 0 -> 98401 bytes\n",
      " .../\\355\\203\\200\\354\\233\\220\\355\\230\\225.jpg\"      | Bin 0 -> 94146 bytes\n",
      " .../\\355\\214\\224\\352\\260\\201\\355\\230\\225.jpg\"      | Bin 0 -> 49986 bytes\n",
      " data/sampleDataRembg/5angle.png                    | Bin 0 -> 280064 bytes\n",
      " data/sampleDataRembg/6angle.png                    | Bin 0 -> 119845 bytes\n",
      " data/sampleDataRembg/8angle.png                    | Bin 0 -> 51462 bytes\n",
      " data/sampleDataRembg/circle.png                    | Bin 0 -> 108754 bytes\n",
      " data/sampleDataRembg/ellipse.png                   | Bin 0 -> 211689 bytes\n",
      " data/sampleDataRembg/jangbang.png                  | Bin 0 -> 141463 bytes\n",
      " data/sampleDataRembg/rectangle.png                 | Bin 0 -> 53276 bytes\n",
      " data/sampleDataRembg/triangle.png                  | Bin 0 -> 156821 bytes\n",
      " ...47\\210\\353\\246\\204\\353\\252\\250\\355\\230\\225.png\" | Bin 0 -> 105730 bytes\n",
      " sample_data/3angle_1.jpg                           | Bin 0 -> 69783 bytes\n",
      " sample_data/3angle_2.jpg                           | Bin 0 -> 80717 bytes\n",
      " sample_data/3angle_3.jpg                           | Bin 0 -> 53167 bytes\n",
      " sample_data/4angle_1.jpg                           | Bin 0 -> 90735 bytes\n",
      " sample_data/4angle_2.jpg                           | Bin 0 -> 111830 bytes\n",
      " sample_data/4angle_3.jpg                           | Bin 0 -> 80962 bytes\n",
      " sample_data/5angle_1.jpg                           | Bin 0 -> 53104 bytes\n",
      " sample_data/5angle_2.jpg                           | Bin 0 -> 54866 bytes\n",
      " sample_data/5angle_3.jpg                           | Bin 0 -> 54350 bytes\n",
      " sample_data/6angle_1.jpg                           | Bin 0 -> 109095 bytes\n",
      " sample_data/6angle_2.jpg                           | Bin 0 -> 54954 bytes\n",
      " sample_data/6angle_3.jpg                           | Bin 0 -> 60553 bytes\n",
      " sample_data/circle_1.jpg                           | Bin 0 -> 58913 bytes\n",
      " sample_data/circle_2.jpg                           | Bin 0 -> 67923 bytes\n",
      " sample_data/circle_3.jpg                           | Bin 0 -> 74790 bytes\n",
      " sample_data/jangbang_1.jpg                         | Bin 0 -> 82892 bytes\n",
      " sample_data/jangbang_2.jpg                         | Bin 0 -> 71655 bytes\n",
      " sample_data_rembg/3angle_1.png                     | Bin 0 -> 138561 bytes\n",
      " sample_data_rembg/3angle_2.png                     | Bin 0 -> 155196 bytes\n",
      " sample_data_rembg/3angle_3.png                     | Bin 0 -> 71718 bytes\n",
      " sample_data_rembg/4angle_1.png                     | Bin 0 -> 251379 bytes\n",
      " sample_data_rembg/5angle_1.png                     | Bin 0 -> 67457 bytes\n",
      " sample_data_rembg/5angle_2.png                     | Bin 0 -> 80691 bytes\n",
      " sample_data_rembg/5angle_3.png                     | Bin 0 -> 79381 bytes\n",
      " sample_data_rembg/6angle_1.png                     | Bin 0 -> 192944 bytes\n",
      " sample_data_rembg/6angle_2.png                     | Bin 0 -> 76364 bytes\n",
      " sample_data_rembg/6angle_3.png                     | Bin 0 -> 111732 bytes\n",
      " sample_data_rembg/circle_1.png                     | Bin 0 -> 100197 bytes\n",
      " sample_data_rembg/circle_2.png                     | Bin 0 -> 108754 bytes\n",
      " sample_data_rembg/circle_3.png                     | Bin 0 -> 164079 bytes\n",
      " sample_data_rembg/jangbangCopy.png                 | Bin 0 -> 131187 bytes\n",
      " sample_data_rembg/jangbang_1.png                   | Bin 0 -> 234361 bytes\n",
      " sample_data_rembg/jangbang_2.png                   | Bin 0 -> 179303 bytes\n",
      " 54 files changed, 218 insertions(+), 2 deletions(-)\n",
      " create mode 100644 .gitignore\n",
      " create mode 100644 .ipynb_checkpoints/about git-checkpoint.ipynb\n",
      " create mode 100644 about git.ipynb\n",
      " create mode 100644 \"data/sampleData/\\353\\247\\210\\353\\246\\204\\353\\252\\250\\355\\230\\225.jpg\"\n",
      " create mode 100644 \"data/sampleData/\\354\\202\\254\\352\\260\\201\\355\\230\\225.jpg\"\n",
      " create mode 100644 \"data/sampleData/\\354\\202\\274\\352\\260\\201\\355\\230\\225.jpg\"\n",
      " create mode 100644 \"data/sampleData/\\354\\233\\220\\355\\230\\225.jpg\"\n",
      " create mode 100644 \"data/sampleData/\\354\\234\\241\\352\\260\\201\\355\\230\\225.jpg\"\n",
      " create mode 100644 \"data/sampleData/\\354\\236\\245\\353\\260\\251\\355\\230\\225.jpg\"\n",
      " create mode 100644 \"data/sampleData/\\355\\203\\200\\354\\233\\220\\355\\230\\225.jpg\"\n",
      " create mode 100644 \"data/sampleData/\\355\\214\\224\\352\\260\\201\\355\\230\\225.jpg\"\n",
      " create mode 100644 data/sampleDataRembg/5angle.png\n",
      " create mode 100644 data/sampleDataRembg/6angle.png\n",
      " create mode 100644 data/sampleDataRembg/8angle.png\n",
      " create mode 100644 data/sampleDataRembg/circle.png\n",
      " create mode 100644 data/sampleDataRembg/ellipse.png\n",
      " create mode 100644 data/sampleDataRembg/jangbang.png\n",
      " create mode 100644 data/sampleDataRembg/rectangle.png\n",
      " create mode 100644 data/sampleDataRembg/triangle.png\n",
      " create mode 100644 \"data/sampleDataRembg/\\353\\247\\210\\353\\246\\204\\353\\252\\250\\355\\230\\225.png\"\n",
      " create mode 100644 sample_data/3angle_1.jpg\n",
      " create mode 100644 sample_data/3angle_2.jpg\n",
      " create mode 100644 sample_data/3angle_3.jpg\n",
      " create mode 100644 sample_data/4angle_1.jpg\n",
      " create mode 100644 sample_data/4angle_2.jpg\n",
      " create mode 100644 sample_data/4angle_3.jpg\n",
      " create mode 100644 sample_data/5angle_1.jpg\n",
      " create mode 100644 sample_data/5angle_2.jpg\n",
      " create mode 100644 sample_data/5angle_3.jpg\n",
      " create mode 100644 sample_data/6angle_1.jpg\n",
      " create mode 100644 sample_data/6angle_2.jpg\n",
      " create mode 100644 sample_data/6angle_3.jpg\n",
      " create mode 100644 sample_data/circle_1.jpg\n",
      " create mode 100644 sample_data/circle_2.jpg\n",
      " create mode 100644 sample_data/circle_3.jpg\n",
      " create mode 100644 sample_data/jangbang_1.jpg\n",
      " create mode 100644 sample_data/jangbang_2.jpg\n",
      " create mode 100644 sample_data_rembg/3angle_1.png\n",
      " create mode 100644 sample_data_rembg/3angle_2.png\n",
      " create mode 100644 sample_data_rembg/3angle_3.png\n",
      " create mode 100644 sample_data_rembg/4angle_1.png\n",
      " create mode 100644 sample_data_rembg/5angle_1.png\n",
      " create mode 100644 sample_data_rembg/5angle_2.png\n",
      " create mode 100644 sample_data_rembg/5angle_3.png\n",
      " create mode 100644 sample_data_rembg/6angle_1.png\n",
      " create mode 100644 sample_data_rembg/6angle_2.png\n",
      " create mode 100644 sample_data_rembg/6angle_3.png\n",
      " create mode 100644 sample_data_rembg/circle_1.png\n",
      " create mode 100644 sample_data_rembg/circle_2.png\n",
      " create mode 100644 sample_data_rembg/circle_3.png\n",
      " create mode 100644 sample_data_rembg/jangbangCopy.png\n",
      " create mode 100644 sample_data_rembg/jangbang_1.png\n",
      " create mode 100644 sample_data_rembg/jangbang_2.png\n"
     ]
    }
   ],
   "source": [
    "!git merge main"
   ]
  },
  {
   "cell_type": "code",
   "execution_count": null,
   "id": "1523e8e3",
   "metadata": {},
   "outputs": [],
   "source": []
  }
 ],
 "metadata": {
  "kernelspec": {
   "display_name": "test_pytorch",
   "language": "python",
   "name": "test"
  },
  "language_info": {
   "codemirror_mode": {
    "name": "ipython",
    "version": 3
   },
   "file_extension": ".py",
   "mimetype": "text/x-python",
   "name": "python",
   "nbconvert_exporter": "python",
   "pygments_lexer": "ipython3",
   "version": "3.6.13"
  }
 },
 "nbformat": 4,
 "nbformat_minor": 5
}
